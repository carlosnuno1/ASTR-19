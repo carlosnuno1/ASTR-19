{
 "cells": [
  {
   "cell_type": "code",
   "execution_count": 14,
   "id": "b5bdd94d-382f-41f1-bbcf-c6590501926a",
   "metadata": {},
   "outputs": [],
   "source": [
    "import matplotlib.pyplot as plt\n",
    "import numpy as np"
   ]
  },
  {
   "cell_type": "code",
   "execution_count": 15,
   "id": "21dd1232-2868-4b88-b5a3-cc168df40d3a",
   "metadata": {},
   "outputs": [],
   "source": [
    "randomNumbers = np.random.uniform(0,1,100)"
   ]
  },
  {
   "cell_type": "code",
   "execution_count": 16,
   "id": "8827776e-e5b3-4814-a11e-8e2057ea29c3",
   "metadata": {},
   "outputs": [
    {
     "data": {
      "text/plain": [
       "(array([2., 0., 2., 3., 1., 2., 0., 1., 0., 1., 0., 3., 0., 2., 1., 2., 0.,\n",
       "        3., 0., 2., 0., 2., 0., 2., 0., 0., 1., 0., 3., 1., 1., 0., 0., 1.,\n",
       "        2., 1., 2., 1., 1., 1., 1., 1., 1., 0., 1., 3., 1., 0., 0., 0., 1.,\n",
       "        0., 0., 0., 0., 2., 1., 1., 1., 1., 0., 2., 1., 2., 1., 3., 1., 1.,\n",
       "        1., 0., 0., 0., 0., 3., 0., 0., 2., 1., 0., 1., 2., 1., 4., 0., 1.,\n",
       "        0., 1., 0., 1., 0., 1., 0., 0., 0., 1., 2., 0., 2., 1., 5.]),\n",
       " array([0.00738882, 0.01727152, 0.02715422, 0.03703692, 0.04691962,\n",
       "        0.05680232, 0.06668502, 0.07656772, 0.08645042, 0.09633312,\n",
       "        0.10621582, 0.11609852, 0.12598122, 0.13586392, 0.14574662,\n",
       "        0.15562932, 0.16551202, 0.17539472, 0.18527742, 0.19516012,\n",
       "        0.20504282, 0.21492552, 0.22480822, 0.23469092, 0.24457362,\n",
       "        0.25445632, 0.26433902, 0.27422172, 0.28410442, 0.29398712,\n",
       "        0.30386982, 0.31375252, 0.32363522, 0.33351792, 0.34340062,\n",
       "        0.35328332, 0.36316602, 0.37304872, 0.38293142, 0.39281412,\n",
       "        0.40269682, 0.41257952, 0.42246222, 0.43234492, 0.44222762,\n",
       "        0.45211032, 0.46199302, 0.47187572, 0.48175842, 0.49164112,\n",
       "        0.50152382, 0.51140652, 0.52128922, 0.53117191, 0.54105461,\n",
       "        0.55093731, 0.56082001, 0.57070271, 0.58058541, 0.59046811,\n",
       "        0.60035081, 0.61023351, 0.62011621, 0.62999891, 0.63988161,\n",
       "        0.64976431, 0.65964701, 0.66952971, 0.67941241, 0.68929511,\n",
       "        0.69917781, 0.70906051, 0.71894321, 0.72882591, 0.73870861,\n",
       "        0.74859131, 0.75847401, 0.76835671, 0.77823941, 0.78812211,\n",
       "        0.79800481, 0.80788751, 0.81777021, 0.82765291, 0.83753561,\n",
       "        0.84741831, 0.85730101, 0.86718371, 0.87706641, 0.88694911,\n",
       "        0.89683181, 0.90671451, 0.91659721, 0.92647991, 0.93636261,\n",
       "        0.94624531, 0.95612801, 0.96601071, 0.97589341, 0.98577611,\n",
       "        0.99565881]),\n",
       " <BarContainer object of 100 artists>)"
      ]
     },
     "execution_count": 16,
     "metadata": {},
     "output_type": "execute_result"
    },
    {
     "data": {
      "image/png": "[encoded data removed]",
      "text/plain": [
       "<Figure size 640x480 with 1 Axes>"
      ]
     },
     "metadata": {},
     "output_type": "display_data"
    }
   ],
   "source": [
    "plt.hist(randomNumbers, bins=100)"
   ]
  },
  {
   "cell_type": "code",
   "execution_count": 17,
   "id": "7ba55a96-2bc9-4bdf-89fb-df70693ff23e",
   "metadata": {},
   "outputs": [
    {
     "data": {
      "text/plain": [
       "<Figure size 640x480 with 0 Axes>"
      ]
     },
     "metadata": {},
     "output_type": "display_data"
    }
   ],
   "source": [
    "plt.savefig('J2P3plot.pdf')"
   ]
  },
  {
   "cell_type": "code",
   "execution_count": null,
   "id": "3c627164-5dc0-4ada-a767-61d7cc168524",
   "metadata": {},
   "outputs": [],
   "source": []
  }
 ],
 "metadata": {
  "kernelspec": {
   "display_name": "Python 3 (ipykernel)",
   "language": "python",
   "name": "python3"
  },
  "language_info": {
   "codemirror_mode": {
    "name": "ipython",
    "version": 3
   },
   "file_extension": ".py",
   "mimetype": "text/x-python",
   "name": "python",
   "nbconvert_exporter": "python",
   "pygments_lexer": "ipython3",
   "version": "3.11.9"
  }
 },
 "nbformat": 4,
 "nbformat_minor": 5
}
