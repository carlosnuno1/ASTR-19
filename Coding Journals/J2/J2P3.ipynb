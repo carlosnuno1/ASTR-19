{
 "cells": [
  {
   "cell_type": "code",
   "execution_count": 22,
   "id": "b5bdd94d-382f-41f1-bbcf-c6590501926a",
   "metadata": {},
   "outputs": [],
   "source": [
    "import matplotlib.pyplot as plt\n",
    "import numpy as np"
   ]
  },
  {
   "cell_type": "code",
   "execution_count": 23,
   "id": "21dd1232-2868-4b88-b5a3-cc168df40d3a",
   "metadata": {},
   "outputs": [],
   "source": [
    "randomNumbers = np.random.uniform(0,1,100)"
   ]
  },
  {
   "cell_type": "code",
   "execution_count": 24,
   "id": "8827776e-e5b3-4814-a11e-8e2057ea29c3",
   "metadata": {},
   "outputs": [
    {
     "data": {
      "image/png": "[encoded data removed]",
      "text/plain": [
       "<Figure size 640x480 with 1 Axes>"
      ]
     },
     "metadata": {},
     "output_type": "display_data"
    }
   ],
   "source": [
    "plt.hist(randomNumbers, bins=100)\n",
    "plt.savefig('J2P3plot.pdf')"
   ]
  },
  {
   "cell_type": "code",
   "execution_count": null,
   "id": "7ba55a96-2bc9-4bdf-89fb-df70693ff23e",
   "metadata": {},
   "outputs": [],
   "source": []
  },
  {
   "cell_type": "code",
   "execution_count": null,
   "id": "3c627164-5dc0-4ada-a767-61d7cc168524",
   "metadata": {},
   "outputs": [],
   "source": []
  },
  {
   "cell_type": "code",
   "execution_count": null,
   "id": "f27d5ce8-c1e5-4809-8393-841f9116625c",
   "metadata": {},
   "outputs": [],
   "source": []
  }
 ],
 "metadata": {
  "kernelspec": {
   "display_name": "Python 3 (ipykernel)",
   "language": "python",
   "name": "python3"
  },
  "language_info": {
   "codemirror_mode": {
    "name": "ipython",
    "version": 3
   },
   "file_extension": ".py",
   "mimetype": "text/x-python",
   "name": "python",
   "nbconvert_exporter": "python",
   "pygments_lexer": "ipython3",
   "version": "3.11.9"
  }
 },
 "nbformat": 4,
 "nbformat_minor": 5
}
