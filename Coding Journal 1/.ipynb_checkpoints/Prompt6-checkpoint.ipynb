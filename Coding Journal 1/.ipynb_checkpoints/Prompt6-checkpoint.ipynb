{
 "cells": [
  {
   "cell_type": "code",
   "execution_count": 7,
   "id": "0b2243f6-292c-4187-9b83-53155890d781",
   "metadata": {},
   "outputs": [],
   "source": [
    "import numpy as np\n",
    "import matplotlib.pyplot as plt"
   ]
  },
  {
   "cell_type": "code",
   "execution_count": 8,
   "id": "3457a134-a464-4384-a0b5-89e86e1176ba",
   "metadata": {},
   "outputs": [],
   "source": [
    "def ReturnSin(x):\n",
    "    return np.sin(x)"
   ]
  },
  {
   "cell_type": "code",
   "execution_count": 9,
   "id": "d783fcb7-f0df-42f7-bcdd-a04647c8a94c",
   "metadata": {},
   "outputs": [],
   "source": [
    "def ReturnCos(x):\n",
    "    return np.cos(x)"
   ]
  },
  {
   "cell_type": "code",
   "execution_count": 10,
   "id": "7ee33474-1ee5-415d-b725-222d28cd1270",
   "metadata": {},
   "outputs": [
    {
     "ename": "NameError",
     "evalue": "name 'np' is not defined",
     "output_type": "error",
     "traceback": [
      "\u001b[31m---------------------------------------------------------------------\u001b[39m",
      "\u001b[31mNameError\u001b[39m                           Traceback (most recent call last)",
      "\u001b[36mCell\u001b[39m\u001b[36m \u001b[39m\u001b[32mIn[10]\u001b[39m\u001b[32m, line 1\u001b[39m\n\u001b[32m----> \u001b[39m\u001b[32m1\u001b[39m x = \u001b[43mnp\u001b[49m.linspace(\u001b[32m0\u001b[39m, \u001b[32m2\u001b[39m*np.pi, \u001b[32m1000\u001b[39m)\n",
      "\u001b[31mNameError\u001b[39m: name 'np' is not defined"
     ]
    }
   ],
   "source": [
    "x = np.linspace(0, 2*np.pi, 1000)"
   ]
  },
  {
   "cell_type": "raw",
   "id": "1c3afe59-6f21-4d2e-ae70-a1a94590af28",
   "metadata": {},
   "source": [
    "for i in range(10):\n",
    "    print(f\"{i:5d}  {x[i]:12.6f}  {ReturnSin[i]:12.6f}  {ReturnCos[i]:12.6f}\")"
   ]
  },
  {
   "cell_type": "code",
   "execution_count": null,
   "id": "647d661a-17a8-4c0c-8859-7c9b0427f86e",
   "metadata": {},
   "outputs": [],
   "source": []
  },
  {
   "cell_type": "code",
   "execution_count": null,
   "id": "e7ccd697-0747-4a87-9afc-4c8433dafbb5",
   "metadata": {},
   "outputs": [],
   "source": []
  },
  {
   "cell_type": "code",
   "execution_count": null,
   "id": "8de3c6bb-c174-408f-ba8b-c99b017cd7e5",
   "metadata": {},
   "outputs": [],
   "source": []
  },
  {
   "cell_type": "code",
   "execution_count": null,
   "id": "56b7641c-7205-45b9-bd82-b144bbd14d0d",
   "metadata": {},
   "outputs": [],
   "source": []
  },
  {
   "cell_type": "code",
   "execution_count": null,
   "id": "ba2273a4-0d89-4e9c-ac2f-5610229816de",
   "metadata": {},
   "outputs": [],
   "source": []
  }
 ],
 "metadata": {
  "kernelspec": {
   "display_name": "Python 3 (ipykernel)",
   "language": "python",
   "name": "python3"
  },
  "language_info": {
   "codemirror_mode": {
    "name": "ipython",
    "version": 3
   },
   "file_extension": ".py",
   "mimetype": "text/x-python",
   "name": "python",
   "nbconvert_exporter": "python",
   "pygments_lexer": "ipython3",
   "version": "3.11.9"
  }
 },
 "nbformat": 4,
 "nbformat_minor": 5
}
