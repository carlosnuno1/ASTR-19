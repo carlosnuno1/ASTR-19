{
 "cells": [
  {
   "cell_type": "code",
   "execution_count": 35,
   "id": "0b2243f6-292c-4187-9b83-53155890d781",
   "metadata": {},
   "outputs": [],
   "source": [
    "import numpy as np\n",
    "import matplotlib.pyplot as plt"
   ]
  },
  {
   "cell_type": "code",
   "execution_count": 36,
   "id": "3457a134-a464-4384-a0b5-89e86e1176ba",
   "metadata": {},
   "outputs": [],
   "source": [
    "def ReturnSin(x):\n",
    "    return np.sin(x)"
   ]
  },
  {
   "cell_type": "code",
   "execution_count": 37,
   "id": "d783fcb7-f0df-42f7-bcdd-a04647c8a94c",
   "metadata": {},
   "outputs": [],
   "source": [
    "def ReturnCos(x):\n",
    "    return np.cos(x)"
   ]
  },
  {
   "cell_type": "code",
   "execution_count": 38,
   "id": "7ee33474-1ee5-415d-b725-222d28cd1270",
   "metadata": {},
   "outputs": [],
   "source": [
    "x = np.linspace(0, 2*np.pi, 1000)"
   ]
  },
  {
   "cell_type": "code",
   "execution_count": 39,
   "id": "fe80bffb-4bc8-4f0e-a413-45df27e57ef8",
   "metadata": {},
   "outputs": [
    {
     "name": "stdout",
     "output_type": "stream",
     "text": [
      "    0     0.000000      1.000000\n",
      "    1     0.841471      0.540302\n",
      "    2     0.909297     -0.416147\n",
      "    3     0.141120     -0.989992\n",
      "    4    -0.756802     -0.653644\n",
      "    5    -0.958924      0.283662\n",
      "    6    -0.279415      0.960170\n",
      "    7     0.656987      0.753902\n",
      "    8     0.989358     -0.145500\n",
      "    9     0.412118     -0.911130\n"
     ]
    }
   ],
   "source": [
    "for i in range(10):\n",
    "    print(f\"{i:5d} {ReturnSin(i):12.6f}  {ReturnCos(i):12.6f}\")"
   ]
  },
  {
   "cell_type": "code",
   "execution_count": null,
   "id": "1de7c287-3866-433c-a7d2-11df67194dd7",
   "metadata": {},
   "outputs": [],
   "source": []
  },
  {
   "cell_type": "code",
   "execution_count": null,
   "id": "bee38e34-eb88-4a9b-81b1-a2eab62216d3",
   "metadata": {},
   "outputs": [],
   "source": []
  },
  {
   "cell_type": "code",
   "execution_count": null,
   "id": "70e4639e-ae5c-4b36-af08-527415da8ea3",
   "metadata": {},
   "outputs": [],
   "source": []
  }
 ],
 "metadata": {
  "kernelspec": {
   "display_name": "Python 3 (ipykernel)",
   "language": "python",
   "name": "python3"
  },
  "language_info": {
   "codemirror_mode": {
    "name": "ipython",
    "version": 3
   },
   "file_extension": ".py",
   "mimetype": "text/x-python",
   "name": "python",
   "nbconvert_exporter": "python",
   "pygments_lexer": "ipython3",
   "version": "3.11.9"
  }
 },
 "nbformat": 4,
 "nbformat_minor": 5
}
